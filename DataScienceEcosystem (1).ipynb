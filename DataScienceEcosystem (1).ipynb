{
 "cells": [
  {
   "cell_type": "markdown",
   "id": "c543832c",
   "metadata": {},
   "source": [
    "# Data Science Tools and Ecosystem"
   ]
  },
  {
   "cell_type": "markdown",
   "id": "87584133",
   "metadata": {},
   "source": [
    "### *En esta Notebook se explicarán las principales herramientas para Data Science y se explicara su ecosistema*"
   ]
  },
  {
   "cell_type": "markdown",
   "id": "8143f88a",
   "metadata": {},
   "source": [
    "## **Objetivos**\n",
    "* Identificar los principales lenguajes utilizados en Data Science\n",
    "* Identificar las librerias más utilizadas en Data Science\n",
    "* Identificar las principales herramientas en Data Science\n",
    "* Desarrollar ejemlos de expresiones aritméticas en Python"
   ]
  },
  {
   "cell_type": "markdown",
   "id": "7f60a82e",
   "metadata": {},
   "source": [
    "### **Algunos de los lenguajes más utilizados en Data Science son**:\n",
    "* Python \n",
    "* R \n",
    "* SQL \n",
    "* Scala \n",
    "* Java \n",
    "* C++ \n",
    "* Julia"
   ]
  },
  {
   "cell_type": "markdown",
   "id": "95bc42a7",
   "metadata": {},
   "source": [
    "### **Algunas de las librerias mas usadas en Data Science son**:\n",
    "* Panda\n",
    "* Numpy\n",
    "* Scipy\n",
    "* matplot\n",
    "* TensorFlow"
   ]
  },
  {
   "cell_type": "markdown",
   "id": "cacd5e2e",
   "metadata": {},
   "source": [
    "|**Data Science Tools**|\n",
    "| -------------------- |\n",
    "| IBM Watson Studio    |\n",
    "| MySQL                |\n",
    "| PostgreSQL           |"
   ]
  },
  {
   "cell_type": "markdown",
   "id": "561594c5",
   "metadata": {},
   "source": [
    "### A continuación se muestran ejemplos de expresiones aritméticas en Python"
   ]
  },
  {
   "cell_type": "code",
   "execution_count": 1,
   "id": "02ca0efc",
   "metadata": {},
   "outputs": [
    {
     "data": {
      "text/plain": [
       "17"
      ]
     },
     "execution_count": 1,
     "metadata": {},
     "output_type": "execute_result"
    }
   ],
   "source": [
    "# Esta es una simple expresion aritmetica para multiplicar y despues sumar numeros enteros\n",
    "(3*4)+5"
   ]
  },
  {
   "cell_type": "code",
   "execution_count": 5,
   "id": "97f03b0d",
   "metadata": {},
   "outputs": [
    {
     "name": "stdout",
     "output_type": "stream",
     "text": [
      "3.3333333333333335 horas\n"
     ]
    }
   ],
   "source": [
    "# Este codigo convierte 200 minutos a horas dividiendo entre 60\n",
    "a = 200 # Minutos\n",
    "b = 60  # Equivalencia de minutos a horas\n",
    "c = a/b\n",
    "print (c,\"horas\")"
   ]
  },
  {
   "cell_type": "markdown",
   "id": "20e2db22",
   "metadata": {},
   "source": [
    "## Autor:\n",
    "Rubén Martínez Godínez"
   ]
  },
  {
   "cell_type": "code",
   "execution_count": null,
   "id": "f3fbae04",
   "metadata": {},
   "outputs": [],
   "source": []
  }
 ],
 "metadata": {
  "kernelspec": {
   "display_name": "Python 3 (ipykernel)",
   "language": "python",
   "name": "python3"
  },
  "language_info": {
   "codemirror_mode": {
    "name": "ipython",
    "version": 3
   },
   "file_extension": ".py",
   "mimetype": "text/x-python",
   "name": "python",
   "nbconvert_exporter": "python",
   "pygments_lexer": "ipython3",
   "version": "3.10.9"
  }
 },
 "nbformat": 4,
 "nbformat_minor": 5
}
