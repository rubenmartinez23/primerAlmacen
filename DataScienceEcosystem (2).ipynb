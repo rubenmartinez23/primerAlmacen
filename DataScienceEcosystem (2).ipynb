{
 "cells": [
  {
   "cell_type": "markdown",
   "id": "8dc42f02",
   "metadata": {},
   "source": [
    "# Data Science Tools and Ecosystem"
   ]
  },
  {
   "cell_type": "markdown",
   "id": "4c4ea4ee",
   "metadata": {},
   "source": [
    "### *In this Notebook the main tools for Data Science will be explained and its ecosystem will be explained.*"
   ]
  },
  {
   "cell_type": "markdown",
   "id": "f392edb4",
   "metadata": {},
   "source": [
    "## **Objectives**\n",
    "* Identify the main languages used in Data Science\n",
    "* Identify the most used libraries in Data Science\n",
    "* Identify the main tools in Data Science\n",
    "* Develop examples of arithmetic expressions in Python"
   ]
  },
  {
   "cell_type": "markdown",
   "id": "babe5a1c",
   "metadata": {},
   "source": [
    "### **Some of the most used languages in Data Science are**:\n",
    "* Python \n",
    "* R \n",
    "* SQL \n",
    "* Scala \n",
    "* Java \n",
    "* C++ \n",
    "* Julia"
   ]
  },
  {
   "cell_type": "markdown",
   "id": "635efe64",
   "metadata": {},
   "source": [
    "### **Some of the most used libraries in Data Science are**:\n",
    "* Panda\n",
    "* Numpy\n",
    "* Scipy\n",
    "* matplot\n",
    "* TensorFlow"
   ]
  },
  {
   "cell_type": "markdown",
   "id": "dfbf137e",
   "metadata": {},
   "source": [
    "|**Data Science Tools**|\n",
    "| -------------------- |\n",
    "| IBM Watson Studio    |\n",
    "| MySQL                |\n",
    "| PostgreSQL           |"
   ]
  },
  {
   "cell_type": "markdown",
   "id": "5bca504f",
   "metadata": {},
   "source": [
    "### Below are examples of arithmetic expressions in Python"
   ]
  },
  {
   "cell_type": "code",
   "execution_count": 6,
   "id": "923458e7",
   "metadata": {},
   "outputs": [
    {
     "data": {
      "text/plain": [
       "17"
      ]
     },
     "execution_count": 6,
     "metadata": {},
     "output_type": "execute_result"
    }
   ],
   "source": [
    "# This is a simple arithmetic expression to multiply and then add integers\n",
    "(3*4)+5"
   ]
  },
  {
   "cell_type": "code",
   "execution_count": 7,
   "id": "1d6d3dca",
   "metadata": {},
   "outputs": [
    {
     "name": "stdout",
     "output_type": "stream",
     "text": [
      "3.3333333333333335 hours\n"
     ]
    }
   ],
   "source": [
    "# This code converts 200 minutes to hours by dividing by 60\n",
    "a = 200 # Minutes\n",
    "b = 60  \n",
    "c = a/b\n",
    "print (c,\"hours\")"
   ]
  },
  {
   "cell_type": "markdown",
   "id": "549a1790",
   "metadata": {},
   "source": [
    "## Author:\n",
    "Rubén Martínez Godínez"
   ]
  },
  {
   "cell_type": "code",
   "execution_count": null,
   "id": "34883bfc",
   "metadata": {},
   "outputs": [],
   "source": []
  }
 ],
 "metadata": {
  "kernelspec": {
   "display_name": "Python 3 (ipykernel)",
   "language": "python",
   "name": "python3"
  },
  "language_info": {
   "codemirror_mode": {
    "name": "ipython",
    "version": 3
   },
   "file_extension": ".py",
   "mimetype": "text/x-python",
   "name": "python",
   "nbconvert_exporter": "python",
   "pygments_lexer": "ipython3",
   "version": "3.10.9"
  }
 },
 "nbformat": 4,
 "nbformat_minor": 5
}
